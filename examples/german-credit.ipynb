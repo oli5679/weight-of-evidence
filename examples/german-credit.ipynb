{
 "cells": [
  {
   "cell_type": "code",
   "execution_count": 1,
   "metadata": {},
   "outputs": [],
   "source": [
    "from weight_of_evidence.tree_binner import TreeBinner"
   ]
  },
  {
   "cell_type": "code",
   "execution_count": 2,
   "metadata": {},
   "outputs": [],
   "source": [
    "from sklearn.pipeline import Pipeline\n",
    "from category_encoders.woe import WOEEncoder\n",
    "from sklearn.preprocessing import StandardScaler, OneHotEncoder\n",
    "from sklearn.linear_model import LogisticRegression\n",
    "from sklearn.compose import ColumnTransformer\n",
    "from sklearn.datasets import make_classification\n",
    "from sklearn.model_selection import cross_val_score\n",
    "from sklearn.model_selection import train_test_split\n",
    "from xgboost import XGBClassifier\n",
    "from sklearn.model_selection import RandomizedSearchCV\n",
    "import pandas as pd\n",
    "import numpy as np\n",
    "from scipy.stats import randint as sp_randint\n",
    "from scipy.stats import uniform as sp_uniform\n",
    "import yaml"
   ]
  },
  {
   "cell_type": "code",
   "execution_count": 3,
   "metadata": {},
   "outputs": [],
   "source": [
    "def prepare_data(config):\n",
    "    data = pd.read_csv(config['data_path'] , \n",
    "                       sep=\" \", names=config['feature_names'])\n",
    "\n",
    "    data[\"response\"] = data[\"response\"] - 1\n",
    "\n",
    "    return data.drop(columns=['response']),data['response']\n"
   ]
  },
  {
   "cell_type": "code",
   "execution_count": 4,
   "metadata": {},
   "outputs": [],
   "source": [
    "CONFIG = yaml.safe_load(open('config.yaml','r'))"
   ]
  },
  {
   "cell_type": "code",
   "execution_count": 5,
   "metadata": {},
   "outputs": [],
   "source": [
    "X, y = prepare_data(CONFIG)"
   ]
  },
  {
   "cell_type": "code",
   "execution_count": 6,
   "metadata": {},
   "outputs": [],
   "source": [
    "AUTO_BIN_PIPELINE = Pipeline([\n",
    "    ('tree_binner', TreeBinner(max_depth=5,min_samples_split=4,min_samples_leaf=4,category_type='str')),\n",
    "    ('woe_encoder', WOEEncoder(regularization=1)),\n",
    "    ('standard_scaler', StandardScaler()),\n",
    "    ('logistic_regression', LogisticRegression(max_iter=10_000,C=0.01))\n",
    "])"
   ]
  },
  {
   "cell_type": "code",
   "execution_count": 7,
   "metadata": {},
   "outputs": [],
   "source": [
    "text_columns_indices = [index for index, dtype in enumerate(X.dtypes) if dtype == 'object']\n",
    "numerical_columns_indices = [index for index, dtype in enumerate(X.dtypes) if dtype != 'object']\n",
    "preprocessor = ColumnTransformer(\n",
    "    transformers=[\n",
    "        ('text', OneHotEncoder(handle_unknown='ignore'), text_columns_indices),\n",
    "        ('num', StandardScaler(with_mean=False), numerical_columns_indices)\n",
    "    ])\n",
    "\n",
    "LINEAR_PIPELINE = Pipeline(steps=[\n",
    "    ('preprocessor', preprocessor),\n",
    "    ('classifier', LogisticRegression(max_iter=10_000,random_state=42))\n",
    "])"
   ]
  },
  {
   "cell_type": "code",
   "execution_count": 8,
   "metadata": {},
   "outputs": [],
   "source": [
    "XGB_Pipeline = Pipeline(steps=[\n",
    "    ('preprocessor', preprocessor),\n",
    "    ('classifier', XGBClassifier(random_state=42))\n",
    "])"
   ]
  },
  {
   "cell_type": "code",
   "execution_count": 9,
   "metadata": {},
   "outputs": [],
   "source": [
    "PIPELINES = {'xgb':XGB_Pipeline,'linear':LINEAR_PIPELINE,'auto_bin':AUTO_BIN_PIPELINE}"
   ]
  },
  {
   "cell_type": "code",
   "execution_count": 10,
   "metadata": {},
   "outputs": [],
   "source": [
    "X_train, X_test, y_train, y_test = train_test_split(X, y, test_size=0.2, random_state=42)"
   ]
  },
  {
   "cell_type": "code",
   "execution_count": 11,
   "metadata": {},
   "outputs": [],
   "source": [
    "def find_best_model_params(model, params_grid, X, y, cv=5, n=50, scoring='roc_auc'):\n",
    "    random_search = RandomizedSearchCV(\n",
    "        model, \n",
    "        param_distributions=params_grid, \n",
    "        n_iter=n, \n",
    "        cv=cv, \n",
    "        scoring=scoring, \n",
    "        n_jobs=-1, \n",
    "        verbose=1, \n",
    "        random_state=42\n",
    "    )\n",
    "    random_search.fit(X, y)\n",
    "    print(f'Best score: {random_search.best_score_:.3f}')\n",
    "    print(f'Best parameters: {random_search.best_params_}')\n",
    "    return random_search.best_params_"
   ]
  },
  {
   "cell_type": "code",
   "execution_count": 19,
   "metadata": {},
   "outputs": [],
   "source": [
    "TREE_BIN_PARAMS_GRID = {\n",
    "    'tree_binner__max_depth': sp_randint(2, 6),\n",
    "    'tree_binner__min_samples_leaf': sp_randint(1, 5),\n",
    "    'tree_binner__min_impurity_decrease': sp_uniform(0, 1),\n",
    "    'woe_encoder__regularization': sp_uniform(0, 1),\n",
    "    'logistic_regression__C': np.logspace(-3, 2, 6),\n",
    "}"
   ]
  },
  {
   "cell_type": "code",
   "execution_count": 20,
   "metadata": {},
   "outputs": [
    {
     "name": "stdout",
     "output_type": "stream",
     "text": [
      "Fitting 5 folds for each of 200 candidates, totalling 1000 fits\n",
      "Best score: 0.762\n",
      "Best parameters: {'logistic_regression__C': 0.001, 'tree_binner__max_depth': 4, 'tree_binner__min_impurity_decrease': 0.42754101835854963, 'tree_binner__min_samples_leaf': 2, 'woe_encoder__regularization': 0.4393365018657701}\n"
     ]
    }
   ],
   "source": [
    "BEST_PARAMS_WOE = find_best_model_params(AUTO_BIN_PIPELINE, TREE_BIN_PARAMS_GRID, X_train, y_train,n=200)"
   ]
  },
  {
   "cell_type": "code",
   "execution_count": 21,
   "metadata": {},
   "outputs": [],
   "source": [
    "PIPELINES['auto_bin'] = AUTO_BIN_PIPELINE.set_params(**BEST_PARAMS_WOE)"
   ]
  },
  {
   "cell_type": "code",
   "execution_count": 22,
   "metadata": {},
   "outputs": [
    {
     "name": "stdout",
     "output_type": "stream",
     "text": [
      "Pipeline: xgb\n",
      "CV score: 0.756\n",
      "Pipeline: linear\n",
      "CV score: 0.770\n",
      "Pipeline: auto_bin\n",
      "CV score: 0.762\n",
      "Pipeline: auto_bin_tuned\n",
      "CV score: 0.762\n"
     ]
    }
   ],
   "source": [
    "for name, pipeline in PIPELINES.items():\n",
    "    print(f'Pipeline: {name}')\n",
    "    print(f'CV score: {cross_val_score(pipeline, X_train, y_train, scoring=\"roc_auc\", cv=5).mean():.3f}')"
   ]
  },
  {
   "cell_type": "code",
   "execution_count": null,
   "metadata": {},
   "outputs": [],
   "source": []
  },
  {
   "cell_type": "code",
   "execution_count": null,
   "metadata": {},
   "outputs": [],
   "source": []
  },
  {
   "cell_type": "code",
   "execution_count": null,
   "metadata": {},
   "outputs": [],
   "source": [
    "\n",
    "\n",
    "#BEST_PARAMS_XGB = find_best_model_params(AUTO_BIN_PIPELINE, CONFIG['params_grid'], X_train, y_train)"
   ]
  },
  {
   "cell_type": "code",
   "execution_count": null,
   "metadata": {},
   "outputs": [],
   "source": [
    "cross_val_score(AUTO_BIN_PIPELINE, X_train, y_train, scoring='roc_auc', cv=5).mean()"
   ]
  },
  {
   "cell_type": "code",
   "execution_count": null,
   "metadata": {},
   "outputs": [],
   "source": [
    "X.select_dtypes('object').nunique()"
   ]
  },
  {
   "cell_type": "code",
   "execution_count": null,
   "metadata": {},
   "outputs": [],
   "source": [
    "cross_val_score(BASELINE_PIPELINE, X, y, scoring='roc_auc', cv=5).mean()"
   ]
  },
  {
   "cell_type": "code",
   "execution_count": null,
   "metadata": {},
   "outputs": [],
   "source": []
  }
 ],
 "metadata": {
  "kernelspec": {
   "display_name": "Python 3 (ipykernel)",
   "language": "python",
   "name": "python3"
  },
  "language_info": {
   "codemirror_mode": {
    "name": "ipython",
    "version": 3
   },
   "file_extension": ".py",
   "mimetype": "text/x-python",
   "name": "python",
   "nbconvert_exporter": "python",
   "pygments_lexer": "ipython3",
   "version": "3.10.10"
  },
  "orig_nbformat": 4
 },
 "nbformat": 4,
 "nbformat_minor": 2
}
