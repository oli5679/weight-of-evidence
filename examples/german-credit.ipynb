{
 "cells": [
  {
   "cell_type": "code",
   "execution_count": 1,
   "metadata": {
    "tags": []
   },
   "outputs": [
    {
     "data": {
      "text/plain": [
       "2"
      ]
     },
     "execution_count": 1,
     "metadata": {},
     "output_type": "execute_result"
    }
   ],
   "source": [
    "1+1"
   ]
  },
  {
   "cell_type": "code",
   "execution_count": 2,
   "metadata": {
    "tags": []
   },
   "outputs": [],
   "source": [
    "from weight_of_evidence.tree_binner import TreeBinner"
   ]
  },
  {
   "cell_type": "code",
   "execution_count": 3,
   "metadata": {
    "tags": []
   },
   "outputs": [],
   "source": [
    "from sklearn.pipeline import Pipeline\n",
    "from category_encoders.woe import WOEEncoder\n",
    "from sklearn.preprocessing import StandardScaler, OneHotEncoder\n",
    "from sklearn.linear_model import LogisticRegression\n",
    "from sklearn.compose import ColumnTransformer\n",
    "from sklearn.datasets import make_classification\n",
    "from sklearn.model_selection import cross_val_score\n",
    "from sklearn.model_selection import train_test_split\n",
    "from xgboost import XGBClassifier\n",
    "from sklearn.model_selection import RandomizedSearchCV\n",
    "import pandas as pd\n",
    "import numpy as np\n",
    "from scipy.stats import randint as sp_randint\n",
    "from scipy.stats import uniform as sp_uniform\n",
    "import yaml"
   ]
  },
  {
   "cell_type": "code",
   "execution_count": 4,
   "metadata": {
    "tags": []
   },
   "outputs": [],
   "source": [
    "def prepare_data(config):\n",
    "    data = pd.read_csv(config['data_path'] , \n",
    "                       sep=\" \", names=config['feature_names'])\n",
    "\n",
    "    data[\"response\"] = data[\"response\"] - 1\n",
    "\n",
    "    return data.drop(columns=['response']),data['response']\n"
   ]
  },
  {
   "cell_type": "code",
   "execution_count": 5,
   "metadata": {
    "tags": []
   },
   "outputs": [],
   "source": [
    "CONFIG = yaml.safe_load(open('config.yaml','r'))"
   ]
  },
  {
   "cell_type": "code",
   "execution_count": 6,
   "metadata": {
    "tags": []
   },
   "outputs": [],
   "source": [
    "X, y = prepare_data(CONFIG)"
   ]
  },
  {
   "cell_type": "code",
   "execution_count": null,
   "metadata": {},
   "outputs": [],
   "source": [
    "AUTO_BIN_PIPELINE = Pipeline([\n",
    "    ('tree_binner', TreeBinner(max_depth=5,min_samples_split=4,min_samples_leaf=4,category_type='str')),\n",
    "    ('woe_encoder', WOEEncoder(regularization=1)),\n",
    "    ('standard_scaler', StandardScaler()),\n",
    "    ('logistic_regression', LogisticRegression(max_iter=10_000,C=0.01))\n",
    "])"
   ]
  },
  {
   "cell_type": "code",
   "execution_count": null,
   "metadata": {},
   "outputs": [],
   "source": [
    "text_columns_indices = [index for index, dtype in enumerate(X.dtypes) if dtype == 'object']\n",
    "numerical_columns_indices = [index for index, dtype in enumerate(X.dtypes) if dtype != 'object']\n",
    "preprocessor = ColumnTransformer(\n",
    "    transformers=[\n",
    "        ('text', OneHotEncoder(handle_unknown='ignore'), text_columns_indices),\n",
    "        ('num', StandardScaler(with_mean=False), numerical_columns_indices)\n",
    "    ])\n",
    "\n",
    "LINEAR_PIPELINE = Pipeline(steps=[\n",
    "    ('preprocessor', preprocessor),\n",
    "    ('classifier', LogisticRegression(max_iter=10_000,random_state=42))\n",
    "])"
   ]
  },
  {
   "cell_type": "code",
   "execution_count": null,
   "metadata": {},
   "outputs": [],
   "source": [
    "XGB_Pipeline = Pipeline(steps=[\n",
    "    ('preprocessor', preprocessor),\n",
    "    ('classifier', XGBClassifier(random_state=42))\n",
    "])"
   ]
  },
  {
   "cell_type": "code",
   "execution_count": null,
   "metadata": {},
   "outputs": [],
   "source": [
    "PIPELINES = {'xgb':XGB_Pipeline,'linear':LINEAR_PIPELINE,'auto_bin':AUTO_BIN_PIPELINE}"
   ]
  },
  {
   "cell_type": "code",
   "execution_count": null,
   "metadata": {},
   "outputs": [],
   "source": [
    "X_train, X_test, y_train, y_test = train_test_split(X, y, test_size=0.2, random_state=42)"
   ]
  },
  {
   "cell_type": "code",
   "execution_count": null,
   "metadata": {},
   "outputs": [],
   "source": [
    "def find_best_model_params(model, params_grid, X, y, cv=5, n=50, scoring='roc_auc'):\n",
    "    random_search = RandomizedSearchCV(\n",
    "        model, \n",
    "        param_distributions=params_grid, \n",
    "        n_iter=n, \n",
    "        cv=cv, \n",
    "        scoring=scoring, \n",
    "        n_jobs=-1, \n",
    "        verbose=1, \n",
    "        random_state=42\n",
    "    )\n",
    "    random_search.fit(X, y)\n",
    "    print(f'Best score: {random_search.best_score_:.3f}')\n",
    "    print(f'Best parameters: {random_search.best_params_}')\n",
    "    return random_search.best_params_"
   ]
  },
  {
   "cell_type": "code",
   "execution_count": null,
   "metadata": {},
   "outputs": [],
   "source": [
    "TREE_BIN_PARAMS_GRID = {\n",
    "    'tree_binner__max_depth': sp_randint(2, 6),\n",
    "    'tree_binner__min_samples_leaf': sp_randint(1, 5),\n",
    "    'tree_binner__min_impurity_decrease': sp_uniform(0, 1),\n",
    "    'woe_encoder__regularization': sp_uniform(0, 1),\n",
    "    'logistic_regression__C': np.logspace(-3, 2, 6),\n",
    "}"
   ]
  },
  {
   "cell_type": "code",
   "execution_count": 7,
   "metadata": {
    "tags": []
   },
   "outputs": [],
   "source": [
    "test = pd.DataFrame(\n",
    "        {\n",
    "            \"a\": [\"a\", \"a\", \"b\", \"b\", \"c\", \"d\"],\n",
    "            \"b\": [\"x\", \"y\", \"x\", \"x\", \"z\", \"z\"],\n",
    "            \"c\": [\"dog\", \"cat\", \"dog\", \"fish\", \"fish\", \"fish\"],\n",
    "            \"d\": [\"blue\", \"red\", \"green\", \"green\", \"yellow\", \"yellow\"],\n",
    "            \"e\": [\"sheep\", \"sheep\", \"sheep\", \"sheep\", \"sheep\", \"sheep\"],\n",
    "        }\n",
    "    )"
   ]
  },
  {
   "cell_type": "code",
   "execution_count": 13,
   "metadata": {
    "tags": []
   },
   "outputs": [],
   "source": [
    "N = len(test)"
   ]
  },
  {
   "cell_type": "code",
   "execution_count": 20,
   "metadata": {
    "tags": []
   },
   "outputs": [],
   "source": [
    "import numpy as np\n",
    "from sklearn.base import BaseEstimator, TransformerMixin\n",
    "import pandas as pd\n"
   ]
  },
  {
   "cell_type": "code",
   "execution_count": 43,
   "metadata": {
    "tags": []
   },
   "outputs": [],
   "source": [
    "class Otherizer(BaseEstimator, TransformerMixin):\n",
    "    def __init__(self, threshold: float = 0.1):\n",
    "        \"\"\"\n",
    "        :param threshold: The threshold below which a value is replaced with 'other'. Default is 0.1, i.e., any value\n",
    "                          that appears in less than 10% of columns is replaced.\n",
    "        \"\"\"\n",
    "        self.threshold = threshold\n",
    "        self.common_strings = {}\n",
    "\n",
    "    def fit(self, X, y=None):\n",
    "        \"\"\"\n",
    "        Fit the transformer on the input data and identify common strings for each column.\n",
    "        \"\"\"\n",
    "        N = len(X)\n",
    "        for col in X.select_dtypes(\"object\").columns:\n",
    "            counts = pd.Series(X[col]).value_counts()\n",
    "            common_strings = counts[(counts / N) >= self.threshold].index\n",
    "            self.common_strings[col] = list(common_strings)\n",
    "        return self\n",
    "\n",
    "    def transform(self, X):\n",
    "        \"\"\"\n",
    "        Transform the input data, replacing uncommon strings with 'other'.\n",
    "        \"\"\"\n",
    "        X_transformed = pd.DataFrame(X.copy())\n",
    "        for col, common_strings in self.common_strings.items():\n",
    "            print(col)\n",
    "            print(common_strings)\n",
    "            X_transformed[col] = np.where(X[col].isin(common_strings), col, \"other\")\n",
    "        return X_transformed\n"
   ]
  },
  {
   "cell_type": "code",
   "execution_count": 46,
   "metadata": {
    "tags": []
   },
   "outputs": [],
   "source": [
    "ot = Otherizer(0.2)"
   ]
  },
  {
   "cell_type": "code",
   "execution_count": 47,
   "metadata": {
    "tags": []
   },
   "outputs": [
    {
     "name": "stdout",
     "output_type": "stream",
     "text": [
      "a\n",
      "['a', 'b']\n",
      "b\n",
      "['x', 'z']\n",
      "c\n",
      "['fish', 'dog']\n",
      "d\n",
      "['green', 'yellow']\n",
      "e\n",
      "['sheep']\n"
     ]
    },
    {
     "data": {
      "text/html": [
       "<div>\n",
       "<style scoped>\n",
       "    .dataframe tbody tr th:only-of-type {\n",
       "        vertical-align: middle;\n",
       "    }\n",
       "\n",
       "    .dataframe tbody tr th {\n",
       "        vertical-align: top;\n",
       "    }\n",
       "\n",
       "    .dataframe thead th {\n",
       "        text-align: right;\n",
       "    }\n",
       "</style>\n",
       "<table border=\"1\" class=\"dataframe\">\n",
       "  <thead>\n",
       "    <tr style=\"text-align: right;\">\n",
       "      <th></th>\n",
       "      <th>a</th>\n",
       "      <th>b</th>\n",
       "      <th>c</th>\n",
       "      <th>d</th>\n",
       "      <th>e</th>\n",
       "    </tr>\n",
       "  </thead>\n",
       "  <tbody>\n",
       "    <tr>\n",
       "      <th>0</th>\n",
       "      <td>a</td>\n",
       "      <td>b</td>\n",
       "      <td>c</td>\n",
       "      <td>other</td>\n",
       "      <td>e</td>\n",
       "    </tr>\n",
       "    <tr>\n",
       "      <th>1</th>\n",
       "      <td>a</td>\n",
       "      <td>other</td>\n",
       "      <td>other</td>\n",
       "      <td>other</td>\n",
       "      <td>e</td>\n",
       "    </tr>\n",
       "    <tr>\n",
       "      <th>2</th>\n",
       "      <td>a</td>\n",
       "      <td>b</td>\n",
       "      <td>c</td>\n",
       "      <td>d</td>\n",
       "      <td>e</td>\n",
       "    </tr>\n",
       "    <tr>\n",
       "      <th>3</th>\n",
       "      <td>a</td>\n",
       "      <td>b</td>\n",
       "      <td>c</td>\n",
       "      <td>d</td>\n",
       "      <td>e</td>\n",
       "    </tr>\n",
       "    <tr>\n",
       "      <th>4</th>\n",
       "      <td>other</td>\n",
       "      <td>b</td>\n",
       "      <td>c</td>\n",
       "      <td>d</td>\n",
       "      <td>e</td>\n",
       "    </tr>\n",
       "    <tr>\n",
       "      <th>5</th>\n",
       "      <td>other</td>\n",
       "      <td>b</td>\n",
       "      <td>c</td>\n",
       "      <td>d</td>\n",
       "      <td>e</td>\n",
       "    </tr>\n",
       "  </tbody>\n",
       "</table>\n",
       "</div>"
      ],
      "text/plain": [
       "       a      b      c      d  e\n",
       "0      a      b      c  other  e\n",
       "1      a  other  other  other  e\n",
       "2      a      b      c      d  e\n",
       "3      a      b      c      d  e\n",
       "4  other      b      c      d  e\n",
       "5  other      b      c      d  e"
      ]
     },
     "execution_count": 47,
     "metadata": {},
     "output_type": "execute_result"
    }
   ],
   "source": [
    "ot.fit_transform(test)"
   ]
  },
  {
   "cell_type": "code",
   "execution_count": 32,
   "metadata": {
    "tags": []
   },
   "outputs": [
    {
     "data": {
      "text/plain": [
       "{'a': ['a', 'b'],\n",
       " 'b': ['x', 'z'],\n",
       " 'c': ['fish', 'dog'],\n",
       " 'd': ['green', 'yellow'],\n",
       " 'e': ['sheep']}"
      ]
     },
     "execution_count": 32,
     "metadata": {},
     "output_type": "execute_result"
    }
   ],
   "source": [
    "ot.common_strings"
   ]
  },
  {
   "cell_type": "code",
   "execution_count": 33,
   "metadata": {
    "tags": []
   },
   "outputs": [],
   "source": []
  },
  {
   "cell_type": "code",
   "execution_count": null,
   "metadata": {},
   "outputs": [],
   "source": []
  },
  {
   "cell_type": "code",
   "execution_count": 17,
   "metadata": {
    "tags": []
   },
   "outputs": [],
   "source": [
    "counts = pd.Series(test['d']).value_counts()\n",
    "common_strings = counts[(counts / N) >= 1].index"
   ]
  },
  {
   "cell_type": "code",
   "execution_count": 18,
   "metadata": {
    "tags": []
   },
   "outputs": [
    {
     "data": {
      "text/plain": [
       "Index([], dtype='object')"
      ]
     },
     "execution_count": 18,
     "metadata": {},
     "output_type": "execute_result"
    }
   ],
   "source": [
    "common_strings"
   ]
  },
  {
   "cell_type": "code",
   "execution_count": null,
   "metadata": {},
   "outputs": [],
   "source": [
    "BEST_PARAMS_WOE = find_best_model_params(AUTO_BIN_PIPELINE, TREE_BIN_PARAMS_GRID, X_train, y_train,n=200)"
   ]
  },
  {
   "cell_type": "code",
   "execution_count": null,
   "metadata": {},
   "outputs": [],
   "source": [
    "PIPELINES['auto_bin'] = AUTO_BIN_PIPELINE.set_params(**BEST_PARAMS_WOE)"
   ]
  },
  {
   "cell_type": "code",
   "execution_count": null,
   "metadata": {},
   "outputs": [],
   "source": [
    "for name, pipeline in PIPELINES.items():\n",
    "    print(f'Pipeline: {name}')\n",
    "    print(f'CV score: {cross_val_score(pipeline, X_train, y_train, scoring=\"roc_auc\", cv=5).mean():.3f}')"
   ]
  },
  {
   "cell_type": "code",
   "execution_count": null,
   "metadata": {},
   "outputs": [],
   "source": []
  },
  {
   "cell_type": "code",
   "execution_count": null,
   "metadata": {},
   "outputs": [],
   "source": []
  },
  {
   "cell_type": "code",
   "execution_count": null,
   "metadata": {},
   "outputs": [],
   "source": [
    "\n",
    "\n",
    "#BEST_PARAMS_XGB = find_best_model_params(AUTO_BIN_PIPELINE, CONFIG['params_grid'], X_train, y_train)"
   ]
  },
  {
   "cell_type": "code",
   "execution_count": null,
   "metadata": {},
   "outputs": [],
   "source": [
    "cross_val_score(AUTO_BIN_PIPELINE, X_train, y_train, scoring='roc_auc', cv=5).mean()"
   ]
  },
  {
   "cell_type": "code",
   "execution_count": null,
   "metadata": {},
   "outputs": [],
   "source": [
    "X.select_dtypes('object').nunique()"
   ]
  },
  {
   "cell_type": "code",
   "execution_count": null,
   "metadata": {},
   "outputs": [],
   "source": [
    "cross_val_score(BASELINE_PIPELINE, X, y, scoring='roc_auc', cv=5).mean()"
   ]
  },
  {
   "cell_type": "code",
   "execution_count": null,
   "metadata": {},
   "outputs": [],
   "source": []
  }
 ],
 "metadata": {
  "kernelspec": {
   "display_name": "Python 3 (ipykernel)",
   "language": "python",
   "name": "python3"
  },
  "language_info": {
   "codemirror_mode": {
    "name": "ipython",
    "version": 3
   },
   "file_extension": ".py",
   "mimetype": "text/x-python",
   "name": "python",
   "nbconvert_exporter": "python",
   "pygments_lexer": "ipython3",
   "version": "3.10.10"
  }
 },
 "nbformat": 4,
 "nbformat_minor": 4
}
